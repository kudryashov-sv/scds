{
 "cells": [
  {
   "cell_type": "code",
   "execution_count": 12,
   "metadata": {},
   "outputs": [],
   "source": [
    "import numpy as np"
   ]
  },
  {
   "cell_type": "code",
   "execution_count": 13,
   "metadata": {},
   "outputs": [],
   "source": [
    "def game_core_binary(number):\n",
    "    \"\"\" Use binary search as find algorithm \"\"\"\n",
    "\n",
    "    count = 0\n",
    "    lower_bound = 0\n",
    "    upper_bound = 100\n",
    "\n",
    "    while True:\n",
    "        count += 1\n",
    "        guess = lower_bound + (upper_bound - lower_bound) // 2\n",
    "\n",
    "        if guess == number:\n",
    "            return count\n",
    "        if guess > number:\n",
    "            upper_bound = guess\n",
    "        elif guess == lower_bound:\n",
    "            lower_bound += 1\n",
    "        else:\n",
    "            lower_bound = guess"
   ]
  },
  {
   "cell_type": "code",
   "execution_count": 14,
   "metadata": {},
   "outputs": [],
   "source": [
    "def score_game(game_core):\n",
    "    np.random.seed(1) # fix random seed\n",
    "    \n",
    "    count_ls = []\n",
    "    random_array = np.random.randint(1,101, size=(1000))\n",
    "    \n",
    "    for number in random_array:\n",
    "        count_ls.append(game_core(number))\n",
    "    score = int(np.mean(count_ls))\n",
    "    \n",
    "    print(f\"Ваш алгоритм угадывает число в среднем за {score} попыток\")"
   ]
  },
  {
   "cell_type": "code",
   "execution_count": 15,
   "metadata": {},
   "outputs": [
    {
     "name": "stdout",
     "output_type": "stream",
     "text": [
      "Ваш алгоритм угадывает число в среднем за 5 попыток\n"
     ]
    }
   ],
   "source": [
    "score_game(game_core_binary)"
   ]
  }
 ],
 "metadata": {
  "kernelspec": {
   "display_name": "Python 3",
   "language": "python",
   "name": "python3"
  },
  "language_info": {
   "codemirror_mode": {
    "name": "ipython",
    "version": 3
   },
   "file_extension": ".py",
   "mimetype": "text/x-python",
   "name": "python",
   "nbconvert_exporter": "python",
   "pygments_lexer": "ipython3",
   "version": "3.7.6"
  }
 },
 "nbformat": 4,
 "nbformat_minor": 4
}
