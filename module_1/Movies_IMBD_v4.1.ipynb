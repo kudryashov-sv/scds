{
 "cells": [
  {
   "cell_type": "code",
   "execution_count": 1,
   "metadata": {
    "_cell_guid": "b1076dfc-b9ad-4769-8c92-a6c4dae69d19",
    "_uuid": "8f2839f25d086af736a60e9eeb907d3b93b6e0e5",
    "colab": {},
    "colab_type": "code",
    "id": "U2D2gTdJVp90"
   },
   "outputs": [],
   "source": [
    "import calendar\n",
    "from collections import Counter\n",
    "import pandas as pd\n",
    "\n",
    "data = pd.read_csv('https://lms.skillfactory.ru/assets/courseware/v1/1d68c628a08cd5521ae70e976577568b/asset-v1:Skillfactory+DST-12+11MAR2020+type@asset+block/movie_bd_v5.csv')"
   ]
  },
  {
   "cell_type": "markdown",
   "metadata": {
    "colab_type": "text",
    "id": "DTIt7ezGVp-G"
   },
   "source": [
    "# Предобработка"
   ]
  },
  {
   "cell_type": "code",
   "execution_count": 2,
   "metadata": {
    "colab": {},
    "colab_type": "code",
    "id": "jNb40DwKVp-H"
   },
   "outputs": [],
   "source": [
    "answers = {}\n",
    "data['profit'] = data['revenue'] - data['budget']\n",
    "data['genres_array'] = data['genres'].str.split('|')\n",
    "data['overview_len'] = data['overview'].str.split().str.len()\n",
    "data['cast_array'] = data['cast'].str.split('|')\n",
    "data['production_array'] = data['production_companies'].str.split('|')\n",
    "data['release_date'] = data['release_date'].apply(pd.to_datetime)\n",
    "\n",
    "def movie_title(row):\n",
    "    clean_title = row['original_title'].to_string(index=False).strip(' ')\n",
    "    clean_imdb_id = row['imdb_id'].to_string(index=False).strip(' ')\n",
    "    return f'{clean_title} ({clean_imdb_id})'"
   ]
  },
  {
   "cell_type": "markdown",
   "metadata": {
    "colab_type": "text",
    "id": "YxZaH-nPVp-L"
   },
   "source": [
    "# 1. У какого фильма из списка самый большой бюджет?"
   ]
  },
  {
   "cell_type": "code",
   "execution_count": 3,
   "metadata": {
    "colab": {},
    "colab_type": "code",
    "id": "dZwb3m28Vp-S"
   },
   "outputs": [
    {
     "name": "stdout",
     "output_type": "stream",
     "text": [
      "Pirates of the Caribbean: On Stranger Tides (tt1298650)\n"
     ]
    }
   ],
   "source": [
    "row = data[data['budget'] == data['budget'].max()][['imdb_id', 'original_title']]\n",
    "answers['1'] = movie_title(row)\n",
    "print(answers['1'])"
   ]
  },
  {
   "cell_type": "markdown",
   "metadata": {
    "colab_type": "text",
    "id": "FNRbbI3vVp-c"
   },
   "source": [
    "# 2. Какой из фильмов самый длительный (в минутах)?"
   ]
  },
  {
   "cell_type": "code",
   "execution_count": 4,
   "metadata": {
    "colab": {},
    "colab_type": "code",
    "id": "ot-VX2XrVp-g"
   },
   "outputs": [
    {
     "name": "stdout",
     "output_type": "stream",
     "text": [
      "Gods and Generals (tt0279111)\n"
     ]
    }
   ],
   "source": [
    "row = data[data['runtime'] == data['runtime'].max()][['imdb_id', 'original_title']]\n",
    "answers['2'] =  movie_title(row)\n",
    "print(answers['2'])"
   ]
  },
  {
   "cell_type": "markdown",
   "metadata": {
    "colab_type": "text",
    "id": "bapLlpW8Vp-k"
   },
   "source": [
    "# 3. Какой из фильмов самый короткий (в минутах)?\n",
    "\n",
    "\n",
    "\n"
   ]
  },
  {
   "cell_type": "code",
   "execution_count": 5,
   "metadata": {
    "colab": {},
    "colab_type": "code",
    "id": "YBxaSHuAVp-l"
   },
   "outputs": [
    {
     "name": "stdout",
     "output_type": "stream",
     "text": [
      "Winnie the Pooh (tt1449283)\n"
     ]
    }
   ],
   "source": [
    "row = data[data['runtime'] == data['runtime'].min()][['imdb_id', 'original_title']]\n",
    "answers['3'] = movie_title(row)\n",
    "print(answers['3'])"
   ]
  },
  {
   "cell_type": "markdown",
   "metadata": {
    "colab_type": "text",
    "id": "TfQbxbfNVp-p"
   },
   "source": [
    "# 4. Какова средняя длительность фильмов?\n"
   ]
  },
  {
   "cell_type": "code",
   "execution_count": 6,
   "metadata": {
    "colab": {},
    "colab_type": "code",
    "id": "5K6dKZYVVp-q"
   },
   "outputs": [
    {
     "name": "stdout",
     "output_type": "stream",
     "text": [
      "110\n"
     ]
    }
   ],
   "source": [
    "answers['4'] = round(data['runtime'].mean())\n",
    "print(answers['4'])"
   ]
  },
  {
   "cell_type": "markdown",
   "metadata": {
    "colab_type": "text",
    "id": "r5TvbnT_Vp-u"
   },
   "source": [
    "# 5. Каково медианное значение длительности фильмов? "
   ]
  },
  {
   "cell_type": "code",
   "execution_count": 7,
   "metadata": {
    "colab": {},
    "colab_type": "code",
    "id": "iBROplKnVp-v"
   },
   "outputs": [
    {
     "name": "stdout",
     "output_type": "stream",
     "text": [
      "107\n"
     ]
    }
   ],
   "source": [
    "answers['5'] = round(data['runtime'].median())\n",
    "print(answers['5'])"
   ]
  },
  {
   "cell_type": "markdown",
   "metadata": {
    "colab_type": "text",
    "id": "39P-deDSVp-y"
   },
   "source": [
    "# 6. Какой самый прибыльный фильм?\n",
    "#### Внимание! Здесь и далее под «прибылью» или «убытками» понимается разность между сборами и бюджетом фильма. (прибыль = сборы - бюджет) в нашем датасете это будет (profit = revenue - budget) "
   ]
  },
  {
   "cell_type": "code",
   "execution_count": 8,
   "metadata": {},
   "outputs": [
    {
     "name": "stdout",
     "output_type": "stream",
     "text": [
      "Avatar (tt0499549)\n"
     ]
    }
   ],
   "source": [
    "row = data[data['profit'] == data['profit'].max()][['imdb_id', 'original_title', 'profit']]\n",
    "answers['6'] = movie_title(row)\n",
    "print(answers['6'])"
   ]
  },
  {
   "cell_type": "markdown",
   "metadata": {
    "colab_type": "text",
    "id": "M99JmIX4Vp-2"
   },
   "source": [
    "# 7. Какой фильм самый убыточный? "
   ]
  },
  {
   "cell_type": "code",
   "execution_count": 9,
   "metadata": {
    "colab": {},
    "colab_type": "code",
    "id": "w-D2m4XPVp-3"
   },
   "outputs": [
    {
     "name": "stdout",
     "output_type": "stream",
     "text": [
      "The Lone Ranger (tt1210819)\n"
     ]
    }
   ],
   "source": [
    "row = data[data['profit'] == data['profit'].min()][['imdb_id', 'original_title', 'profit']]\n",
    "answers['7'] = movie_title(row)\n",
    "print(answers['7'])"
   ]
  },
  {
   "cell_type": "markdown",
   "metadata": {
    "colab_type": "text",
    "id": "wEOM5ERVVp-6"
   },
   "source": [
    "# 8. У скольких фильмов из датасета объем сборов оказался выше бюджета?"
   ]
  },
  {
   "cell_type": "code",
   "execution_count": 10,
   "metadata": {
    "colab": {},
    "colab_type": "code",
    "id": "y00_7HD6Vp-7"
   },
   "outputs": [
    {
     "name": "stdout",
     "output_type": "stream",
     "text": [
      "1478\n"
     ]
    }
   ],
   "source": [
    "answers['8'] = data[data['profit'] > 0]['imdb_id'].count()\n",
    "print(answers['8'])"
   ]
  },
  {
   "cell_type": "markdown",
   "metadata": {
    "colab_type": "text",
    "id": "xhpspA9KVp_A"
   },
   "source": [
    "# 9. Какой фильм оказался самым кассовым в 2008 году?"
   ]
  },
  {
   "cell_type": "code",
   "execution_count": 11,
   "metadata": {
    "colab": {},
    "colab_type": "code",
    "id": "MoUyQr9RVp_B"
   },
   "outputs": [
    {
     "name": "stdout",
     "output_type": "stream",
     "text": [
      "The Dark Knight (tt0468569)\n"
     ]
    }
   ],
   "source": [
    "max_profit = data[data['release_year'] == 2008]['profit'].max()\n",
    "row = data[(data['release_year'] == 2008) & (data['profit'] == max_profit)][['imdb_id', 'original_title', 'profit']]\n",
    "answers['9'] = movie_title(row)\n",
    "print(answers['9'])"
   ]
  },
  {
   "cell_type": "markdown",
   "metadata": {
    "colab_type": "text",
    "id": "Zi4hDKidVp_F"
   },
   "source": [
    "# 10. Самый убыточный фильм за период с 2012 по 2014 г. (включительно)?\n"
   ]
  },
  {
   "cell_type": "code",
   "execution_count": 12,
   "metadata": {
    "colab": {},
    "colab_type": "code",
    "id": "XqyRmufJVp_F"
   },
   "outputs": [
    {
     "name": "stdout",
     "output_type": "stream",
     "text": [
      "The Lone Ranger (tt1210819)\n"
     ]
    }
   ],
   "source": [
    "min_profit = data[data['release_year'].between(2012, 2014)]['profit'].min()\n",
    "row = data[(data['release_year'].between(2012, 2014)) & (data['profit'] == min_profit)]\n",
    "answers['10'] = movie_title(row)\n",
    "print(answers['10'])"
   ]
  },
  {
   "cell_type": "markdown",
   "metadata": {
    "colab_type": "text",
    "id": "EA7Sa9dkVp_I"
   },
   "source": [
    "# 11. Какого жанра фильмов больше всего?"
   ]
  },
  {
   "cell_type": "code",
   "execution_count": 13,
   "metadata": {
    "colab": {},
    "colab_type": "code",
    "id": "zsJAwJ8QVp_J"
   },
   "outputs": [
    {
     "name": "stdout",
     "output_type": "stream",
     "text": [
      "Drama\n"
     ]
    }
   ],
   "source": [
    "genres = data.explode('genres_array').groupby('genres_array')['imdb_id'].count().sort_values(ascending=False)\n",
    "answers['11'] = genres.index[0]\n",
    "print(answers['11'])"
   ]
  },
  {
   "cell_type": "markdown",
   "metadata": {
    "colab_type": "text",
    "id": "T9_bPWpkVp_Q"
   },
   "source": [
    "# 12. Фильмы какого жанра чаще всего становятся прибыльными? "
   ]
  },
  {
   "cell_type": "code",
   "execution_count": 14,
   "metadata": {},
   "outputs": [
    {
     "name": "stdout",
     "output_type": "stream",
     "text": [
      "Drama\n"
     ]
    }
   ],
   "source": [
    "with_profit = data[data['profit'] > 0]\n",
    "genres = with_profit.explode('genres_array').groupby('genres_array')['imdb_id'].count().sort_values(ascending=False)\n",
    "answers['12'] = genres.index[0]\n",
    "print(answers['12'])"
   ]
  },
  {
   "cell_type": "markdown",
   "metadata": {
    "colab_type": "text",
    "id": "0F23bgsDVp_U"
   },
   "source": [
    "# 13. У какого режиссера самые большие суммарные кассовые сбооры?"
   ]
  },
  {
   "cell_type": "code",
   "execution_count": 15,
   "metadata": {
    "colab": {},
    "colab_type": "code",
    "id": "K6Z3J8ygVp_X"
   },
   "outputs": [
    {
     "name": "stdout",
     "output_type": "stream",
     "text": [
      "Peter Jackson\n"
     ]
    }
   ],
   "source": [
    "answers['13'] = data.groupby('director').sum()['revenue'].sort_values(ascending=False).index[0]\n",
    "print(answers['13'])"
   ]
  },
  {
   "cell_type": "markdown",
   "metadata": {
    "colab_type": "text",
    "id": "PsYC9FgRVp_a"
   },
   "source": [
    "# 14. Какой режисер снял больше всего фильмов в стиле Action?"
   ]
  },
  {
   "cell_type": "code",
   "execution_count": 16,
   "metadata": {
    "colab": {},
    "colab_type": "code",
    "id": "wd2M-wHeVp_b"
   },
   "outputs": [
    {
     "name": "stdout",
     "output_type": "stream",
     "text": [
      "Robert Rodriguez\n"
     ]
    }
   ],
   "source": [
    "variants = ['Ridley Scott', 'Guy Ritchie', 'Robert Rodriguez', 'Quentin Tarantino', 'Tony Scott']\n",
    "\n",
    "action_directors = data[data['director'].isin(variants)]\n",
    "\n",
    "action_directors = action_directors[action_directors['genres'].str.contains('Action')] \\\n",
    "    .groupby('director')['imdb_id'] \\\n",
    "    .count() \\\n",
    "    .sort_values(ascending=False)\n",
    "\n",
    "answers['14'] = action_directors.index[0]\n",
    "print(answers['14'])"
   ]
  },
  {
   "cell_type": "markdown",
   "metadata": {
    "colab_type": "text",
    "id": "PQ0KciD7Vp_f"
   },
   "source": [
    "# 15. Фильмы с каким актером принесли самые высокие кассовые сборы в 2012 году? "
   ]
  },
  {
   "cell_type": "code",
   "execution_count": 17,
   "metadata": {},
   "outputs": [
    {
     "name": "stdout",
     "output_type": "stream",
     "text": [
      "Chris Hemsworth\n"
     ]
    }
   ],
   "source": [
    "data_2012 = data[data['release_year'] == 2012]\n",
    "revenue = data_2012.explode('cast_array').groupby('cast_array')['revenue'].sum().sort_values(ascending=False)\n",
    "answers['15'] = revenue.index[0]\n",
    "print(answers['15'])"
   ]
  },
  {
   "cell_type": "markdown",
   "metadata": {
    "colab_type": "text",
    "id": "mWHyyL7QVp_j"
   },
   "source": [
    "# 16. Какой актер снялся в большем количестве высокобюджетных фильмов?"
   ]
  },
  {
   "cell_type": "code",
   "execution_count": 18,
   "metadata": {
    "colab": {},
    "colab_type": "code",
    "id": "qQtmHKTFVp_k"
   },
   "outputs": [
    {
     "name": "stdout",
     "output_type": "stream",
     "text": [
      "Matt Damon\n"
     ]
    }
   ],
   "source": [
    "cast_budget = Counter()\n",
    "\n",
    "def count_cast_budget(row):\n",
    "    for cast in row['cast_array']:\n",
    "        cast_budget[cast] += 1\n",
    "\n",
    "data[data['budget'] > data['budget'].median()].apply(count_cast_budget, axis='columns')\n",
    "answers['16'], _ = cast_budget.most_common(1)[0]\n",
    "print(answers['16'])"
   ]
  },
  {
   "cell_type": "code",
   "execution_count": 19,
   "metadata": {},
   "outputs": [
    {
     "name": "stdout",
     "output_type": "stream",
     "text": [
      "Matt Damon\n"
     ]
    }
   ],
   "source": [
    "high_budget = data[data['budget'] > data['budget'].median()]\n",
    "cast_hist = high_budget.explode('cast_array').groupby('cast_array')['imdb_id'].count().sort_values(ascending=False)\n",
    "answers['16'] = cast_hist.index[0]\n",
    "print(answers['16'])"
   ]
  },
  {
   "cell_type": "markdown",
   "metadata": {
    "colab_type": "text",
    "id": "NIh6AaW5Vp_n"
   },
   "source": [
    "# 17. В фильмах какого жанра больше всего снимался Nicolas Cage? "
   ]
  },
  {
   "cell_type": "code",
   "execution_count": 20,
   "metadata": {},
   "outputs": [
    {
     "name": "stdout",
     "output_type": "stream",
     "text": [
      "Action\n"
     ]
    }
   ],
   "source": [
    "cage = data[data['cast'].str.contains('Nicolas Cage')]\n",
    "genres = cage.explode('genres_array').groupby('genres_array')['imdb_id'].count().sort_values(ascending=False)\n",
    "answers['17'] = genres.index[0]\n",
    "print(answers['17'])"
   ]
  },
  {
   "cell_type": "markdown",
   "metadata": {
    "colab_type": "text",
    "id": "RqOmPRfWVp_q"
   },
   "source": [
    "# 18. Самый убыточный фильм от Paramount Pictures"
   ]
  },
  {
   "cell_type": "code",
   "execution_count": 21,
   "metadata": {
    "colab": {},
    "colab_type": "code",
    "id": "9E_B0Y96Vp_r"
   },
   "outputs": [
    {
     "name": "stdout",
     "output_type": "stream",
     "text": [
      "K-19: The Widowmaker (tt0267626)\n"
     ]
    }
   ],
   "source": [
    "paramount = data[data['production_companies'].str.contains('Paramount Pictures')]\n",
    "answers['18'] = movie_title(paramount.sort_values(by='profit').head(1))\n",
    "print(answers['18'])"
   ]
  },
  {
   "cell_type": "markdown",
   "metadata": {
    "colab_type": "text",
    "id": "vS8Ur6ddVp_u"
   },
   "source": [
    "# 19. Какой год стал самым успешным по суммарным кассовым сборам?"
   ]
  },
  {
   "cell_type": "code",
   "execution_count": 22,
   "metadata": {
    "colab": {},
    "colab_type": "code",
    "id": "Dnbt4GdIVp_v"
   },
   "outputs": [
    {
     "name": "stdout",
     "output_type": "stream",
     "text": [
      "2015\n"
     ]
    }
   ],
   "source": [
    "answers['19'] = data.groupby('release_year')['revenue'].sum().sort_values(ascending=False).index[0]\n",
    "print(answers['19'])"
   ]
  },
  {
   "cell_type": "markdown",
   "metadata": {
    "colab_type": "text",
    "id": "JAzJh4QAVp_z"
   },
   "source": [
    "# 20. Какой самый прибыльный год для студии Warner Bros?"
   ]
  },
  {
   "cell_type": "code",
   "execution_count": 23,
   "metadata": {
    "colab": {},
    "colab_type": "code",
    "id": "wgVu02DEVp_0"
   },
   "outputs": [
    {
     "name": "stdout",
     "output_type": "stream",
     "text": [
      "2014\n"
     ]
    }
   ],
   "source": [
    "warner = data[data['production_companies'].str.contains('Warner Bros')]\n",
    "answers['20'] = warner.groupby('release_year')['revenue'].sum().sort_values(ascending=False).index[0]\n",
    "print(answers['20'])"
   ]
  },
  {
   "cell_type": "markdown",
   "metadata": {
    "colab_type": "text",
    "id": "8Im1S2HRVp_4"
   },
   "source": [
    "# 21. В каком месяце за все годы суммарно вышло больше всего фильмов?"
   ]
  },
  {
   "cell_type": "code",
   "execution_count": 24,
   "metadata": {
    "colab": {},
    "colab_type": "code",
    "id": "lev6TH7gVp_4"
   },
   "outputs": [
    {
     "name": "stdout",
     "output_type": "stream",
     "text": [
      "September\n"
     ]
    }
   ],
   "source": [
    "answers['21'] = data.groupby(by=data['release_date'].dt.month)['imdb_id'].count().sort_values(ascending=False).index[0]\n",
    "print(calendar.month_name[answers['21']])"
   ]
  },
  {
   "cell_type": "markdown",
   "metadata": {
    "colab_type": "text",
    "id": "uAJsZ_NeVp_7"
   },
   "source": [
    "# 22. Сколько суммарно вышло фильмов летом? (за июнь, июль, август)"
   ]
  },
  {
   "cell_type": "code",
   "execution_count": 25,
   "metadata": {
    "colab": {},
    "colab_type": "code",
    "id": "Aa-hEREoVp_8"
   },
   "outputs": [
    {
     "name": "stdout",
     "output_type": "stream",
     "text": [
      "450\n"
     ]
    }
   ],
   "source": [
    "answers['22'] = data[data['release_date'].dt.month.between(6,8)]['imdb_id'].count()\n",
    "print(answers['22'])"
   ]
  },
  {
   "cell_type": "markdown",
   "metadata": {
    "colab_type": "text",
    "id": "G94ppOY1VqAA"
   },
   "source": [
    "# 23. Для какого режиссера зима – самое продуктивное время года? "
   ]
  },
  {
   "cell_type": "code",
   "execution_count": 26,
   "metadata": {
    "colab": {},
    "colab_type": "code",
    "id": "RhNTsamuVqAB"
   },
   "outputs": [
    {
     "name": "stdout",
     "output_type": "stream",
     "text": [
      "Peter Jackson\n"
     ]
    }
   ],
   "source": [
    "directors = data[data['release_date'].dt.month.isin([12,1,2])].groupby('director')['imdb_id'].count().sort_values(ascending=False)\n",
    "answers['23'] = directors.index[0]\n",
    "print(answers['23'])"
   ]
  },
  {
   "cell_type": "markdown",
   "metadata": {
    "colab_type": "text",
    "id": "RBo0JVjVVqAF"
   },
   "source": [
    "# 24. Какая студия дает самые длинные названия своим фильмам по количеству символов?"
   ]
  },
  {
   "cell_type": "code",
   "execution_count": 27,
   "metadata": {
    "colab": {},
    "colab_type": "code",
    "id": "QRGS8L0iVqAG"
   },
   "outputs": [
    {
     "name": "stdout",
     "output_type": "stream",
     "text": [
      "Four By Two Productions\n"
     ]
    }
   ],
   "source": [
    "title_len = {}\n",
    "def title_count(row):\n",
    "    for p in row['production_array']:\n",
    "        title_len.setdefault(p, [])\n",
    "        title_len[p].append(len(row['original_title']))\n",
    "        \n",
    "\n",
    "data.apply(title_count, axis='columns')\n",
    "result = []\n",
    "for p in title_len:\n",
    "    result.append( (sum(title_len[p]) / len(title_len[p]), p)  )\n",
    "_, answers['24'] = sorted(result, reverse=True)[0]\n",
    "print(answers['24'])"
   ]
  },
  {
   "cell_type": "code",
   "execution_count": 28,
   "metadata": {},
   "outputs": [
    {
     "name": "stdout",
     "output_type": "stream",
     "text": [
      "Four By Two Productions\n"
     ]
    }
   ],
   "source": [
    "with_len = data.explode('production_array')[['production_array', 'original_title']]\n",
    "with_len['original_title_len'] = with_len['original_title'].apply(len)\n",
    "answers['24'] = with_len.groupby('production_array')['original_title_len'] \\\n",
    "    .mean() \\\n",
    "    .sort_values(ascending=False) \\\n",
    "    .index[0]\n",
    "print(answers['24'])"
   ]
  },
  {
   "cell_type": "markdown",
   "metadata": {
    "colab_type": "text",
    "id": "9G0hbvR7VqAK"
   },
   "source": [
    "# 25. Описание фильмов какой студии в среднем самые длинные по количеству слов?"
   ]
  },
  {
   "cell_type": "code",
   "execution_count": 29,
   "metadata": {
    "colab": {},
    "colab_type": "code",
    "id": "Ge2GsLNxVqAK"
   },
   "outputs": [
    {
     "name": "stdout",
     "output_type": "stream",
     "text": [
      "Midnight Picture Show\n"
     ]
    }
   ],
   "source": [
    "answers['25'] = data.explode('production_array') \\\n",
    "    .groupby('production_array')['overview_len'] \\\n",
    "    .mean() \\\n",
    "    .sort_values(ascending=False) \\\n",
    "    .index[0]\n",
    "print(answers['25'])"
   ]
  },
  {
   "cell_type": "markdown",
   "metadata": {
    "colab_type": "text",
    "id": "FJ1AFt90VqAP"
   },
   "source": [
    "# 26. Какие фильмы входят в 1 процент лучших по рейтингу? \n",
    "по vote_average"
   ]
  },
  {
   "cell_type": "code",
   "execution_count": 30,
   "metadata": {
    "colab": {},
    "colab_type": "code",
    "id": "8qmJVq4CVqAQ"
   },
   "outputs": [
    {
     "name": "stdout",
     "output_type": "stream",
     "text": [
      "Inside Out, The Dark Knight, 12 Years a Slave\n"
     ]
    }
   ],
   "source": [
    "variants = [\n",
    "    ['Inside Out', 'The Dark Knight', '12 Years a Slave'],\n",
    "    ['BloodRayne', 'The Adventures of Rocky & Bullwinkle'],\n",
    "    ['Batman Begins', 'The Lord of the Rings: The Return of the King', 'Upside Down'],\n",
    "    ['300', 'Lucky Number Slevin', 'Kill Bill: Vol. 1'],\n",
    "    ['Upside Down', 'Inside Out', 'Iron Man'],\n",
    "]\n",
    "best_99 = data[data['vote_average'] > data['vote_average'].quantile(.99)]['original_title']\n",
    "best_set = set(best_99.unique())\n",
    "answers['26'] = 'unknown'\n",
    "\n",
    "for variant in variants:\n",
    "    variant_set = set(variant)\n",
    "    if set(variant).issubset(best_set):\n",
    "        answers['26'] = ', '.join(variant)\n",
    "    break\n",
    "\n",
    "print(answers['26'])"
   ]
  },
  {
   "cell_type": "markdown",
   "metadata": {
    "colab_type": "text",
    "id": "MdXsUXbCVqAV"
   },
   "source": [
    "# 27. Какие актеры чаще всего снимаются в одном фильме вместе?\n"
   ]
  },
  {
   "cell_type": "code",
   "execution_count": 31,
   "metadata": {},
   "outputs": [
    {
     "name": "stdout",
     "output_type": "stream",
     "text": [
      "Daniel Radcliffe, Rupert Grint\n"
     ]
    }
   ],
   "source": [
    "pairs = Counter()\n",
    "def count_pairs(row):\n",
    "    for i, cast in enumerate(row['cast_array']):\n",
    "        for cast2 in row['cast_array'][i:]:\n",
    "            if cast != cast2:\n",
    "                pairs[', '.join(sorted([cast, cast2]))] += 1\n",
    "\n",
    "data.apply(count_pairs, axis='columns')\n",
    "answers['27'], _ = pairs.most_common(1)[0]\n",
    "print(answers['27'])"
   ]
  },
  {
   "cell_type": "markdown",
   "metadata": {
    "colab_type": "text",
    "id": "U0nONFnGVqAX"
   },
   "source": [
    "# Submission"
   ]
  },
  {
   "cell_type": "code",
   "execution_count": 32,
   "metadata": {
    "colab": {},
    "colab_type": "code",
    "id": "IfcaRO9-VqAX",
    "outputId": "0f132912-32bb-4196-c98c-abfbc4ad5a5f"
   },
   "outputs": [
    {
     "data": {
      "text/plain": [
       "{'1': 'Pirates of the Caribbean: On Stranger Tides (tt1298650)',\n",
       " '2': 'Gods and Generals (tt0279111)',\n",
       " '3': 'Winnie the Pooh (tt1449283)',\n",
       " '4': 110,\n",
       " '5': 107,\n",
       " '6': 'Avatar (tt0499549)',\n",
       " '7': 'The Lone Ranger (tt1210819)',\n",
       " '8': 1478,\n",
       " '9': 'The Dark Knight (tt0468569)',\n",
       " '10': 'The Lone Ranger (tt1210819)',\n",
       " '11': 'Drama',\n",
       " '12': 'Drama',\n",
       " '13': 'Peter Jackson',\n",
       " '14': 'Robert Rodriguez',\n",
       " '15': 'Chris Hemsworth',\n",
       " '16': 'Matt Damon',\n",
       " '17': 'Action',\n",
       " '18': 'K-19: The Widowmaker (tt0267626)',\n",
       " '19': 2015,\n",
       " '20': 2014,\n",
       " '21': 9,\n",
       " '22': 450,\n",
       " '23': 'Peter Jackson',\n",
       " '24': 'Four By Two Productions',\n",
       " '25': 'Midnight Picture Show',\n",
       " '26': 'Inside Out, The Dark Knight, 12 Years a Slave',\n",
       " '27': 'Daniel Radcliffe, Rupert Grint'}"
      ]
     },
     "metadata": {},
     "output_type": "display_data"
    }
   ],
   "source": [
    "display(answers)"
   ]
  },
  {
   "cell_type": "code",
   "execution_count": 33,
   "metadata": {
    "colab": {},
    "colab_type": "code",
    "id": "SiRmHPl8VqAd"
   },
   "outputs": [
    {
     "name": "stdout",
     "output_type": "stream",
     "text": [
      "27\n"
     ]
    }
   ],
   "source": [
    "# и убедиться что ни чего не пропустил)\n",
    "print(len(answers))"
   ]
  }
 ],
 "metadata": {
  "colab": {
   "name": "Copy of [SF-DST] Movies IMBD v4.1 TEMPLATE.ipynb",
   "provenance": []
  },
  "kernelspec": {
   "display_name": "Python 3",
   "language": "python",
   "name": "python3"
  },
  "language_info": {
   "codemirror_mode": {
    "name": "ipython",
    "version": 3
   },
   "file_extension": ".py",
   "mimetype": "text/x-python",
   "name": "python",
   "nbconvert_exporter": "python",
   "pygments_lexer": "ipython3",
   "version": "3.7.6"
  }
 },
 "nbformat": 4,
 "nbformat_minor": 1
}
